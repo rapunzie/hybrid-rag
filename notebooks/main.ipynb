{
 "cells": [
  {
   "cell_type": "code",
   "execution_count": null,
   "id": "50bb8d1b",
   "metadata": {},
   "outputs": [],
   "source": [
    "from vector_retriever import VectorRetriever\n",
    "\n",
    "# Inisialisasi retriever\n",
    "vec_retriever = VectorRetriever(\n",
    "    qdrant_url=\"QDRANT_URL\",\n",
    "    qdrant_api_key=\"QDRANT_API_KEY\",\n",
    "    collection_name=\"apple_dense\"\n",
    ")\n",
    "\n",
    "# Tes\n",
    "query = \"What are Apple's main products?\"\n",
    "contexts = vec_retriever.retrieve(query, top_k=3)\n",
    "\n",
    "for i, ctx in enumerate(contexts, 1):\n",
    "    print(f\"[Doc {i}] Score: {ctx['score']:.4f}\")\n",
    "    print(f\"Section: {ctx['section']} | Item: {ctx['item']}\")\n",
    "    print(f\"Text: {ctx['text'][:200]}...\\n\")"
   ]
  }
 ],
 "metadata": {
  "language_info": {
   "name": "python"
  }
 },
 "nbformat": 4,
 "nbformat_minor": 5
}
